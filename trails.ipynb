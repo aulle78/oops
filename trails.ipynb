{
 "cells": [
  {
   "cell_type": "markdown",
   "metadata": {},
   "source": [
    "##### Normal way to calulate item price per qunitity"
   ]
  },
  {
   "cell_type": "code",
   "execution_count": 1,
   "metadata": {},
   "outputs": [
    {
     "name": "stdout",
     "output_type": "stream",
     "text": [
      "500\n"
     ]
    }
   ],
   "source": [
    "name = 'phone'\n",
    "price = 100\n",
    "quantity = 5\n",
    "\n",
    "total_quntity_price = price * quantity\n",
    "\n",
    "print(total_quntity_price)"
   ]
  },
  {
   "cell_type": "markdown",
   "metadata": {},
   "source": [
    "##### modular way to calulate item price per quantity using function def"
   ]
  },
  {
   "cell_type": "code",
   "execution_count": 3,
   "metadata": {},
   "outputs": [
    {
     "name": "stdout",
     "output_type": "stream",
     "text": [
      "500\n"
     ]
    }
   ],
   "source": [
    "def calc_quntity_price(name,price,quantity):\n",
    "    return price * quantity\n",
    "\n",
    "print(calc_quntity_price(name = 'phone',price = 100,quantity=5))"
   ]
  },
  {
   "cell_type": "markdown",
   "metadata": {},
   "source": [
    "###### now define the modular way to calulate item price per quantity using our custom class "
   ]
  },
  {
   "cell_type": "code",
   "execution_count": 6,
   "metadata": {},
   "outputs": [
    {
     "name": "stdout",
     "output_type": "stream",
     "text": [
      "500\n"
     ]
    }
   ],
   "source": [
    "class Item:  # create a class named Item\n",
    "\n",
    "    def __init__(self,name,price,quantity): # initialize all variables with self that is passed to the constructor\n",
    "        self.name = name\n",
    "        self.quantity = quantity\n",
    "        self.price = price\n",
    "\n",
    "    def calc_quntity_price(self):\n",
    "        return self.price * self.quantity\n",
    "    \n",
    "item1 = Item(name = 'phone',price = 100,quantity = 5)\n",
    "print(item1.calc_quntity_price())"
   ]
  },
  {
   "cell_type": "code",
   "execution_count": 16,
   "metadata": {},
   "outputs": [
    {
     "name": "stdout",
     "output_type": "stream",
     "text": [
      "500\n"
     ]
    }
   ],
   "source": [
    "class Item:  # create a class named Item\n",
    "\n",
    "    def __init__(self,name: str,price: float,quantity: int): # initialize all variables with self that is passed to the constructor\n",
    "        \n",
    "        assert price >= 0, f\"the price should be greater than zero, but you have provided negative price...\"\n",
    "        assert quantity >= 0, f\"the quantity should be greater than zero, but you have provided negative quantity...\"\n",
    "\n",
    "        # initialize all variables with self that is passed to the constructor\n",
    "        self.name = name\n",
    "        self.quantity = quantity\n",
    "        self.price = price\n",
    "\n",
    "    def calc_quntity_price(self):\n",
    "        return self.price * self.quantity\n",
    "    \n",
    "item1 = Item('phone',100,5)\n",
    "print(item1.calc_quntity_price())"
   ]
  }
 ],
 "metadata": {
  "kernelspec": {
   "display_name": "base",
   "language": "python",
   "name": "python3"
  },
  "language_info": {
   "codemirror_mode": {
    "name": "ipython",
    "version": 3
   },
   "file_extension": ".py",
   "mimetype": "text/x-python",
   "name": "python",
   "nbconvert_exporter": "python",
   "pygments_lexer": "ipython3",
   "version": "3.11.5"
  }
 },
 "nbformat": 4,
 "nbformat_minor": 2
}
